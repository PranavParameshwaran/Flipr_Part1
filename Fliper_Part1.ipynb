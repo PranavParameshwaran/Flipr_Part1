{
  "nbformat": 4,
  "nbformat_minor": 0,
  "metadata": {
    "colab": {
      "name": "Fliper_Part1.ipynb",
      "provenance": [],
      "collapsed_sections": [],
      "toc_visible": true
    },
    "kernelspec": {
      "name": "python3",
      "display_name": "Python 3"
    },
    "accelerator": "GPU"
  },
  "cells": [
    {
      "cell_type": "code",
      "metadata": {
        "id": "OoJqnpF55hyM",
        "colab_type": "code",
        "colab": {}
      },
      "source": [
        "import pandas as pd\n",
        "import numpy as np\n",
        "import matplotlib.pyplot as plt\n",
        "import seaborn as sns\n",
        "%matplotlib inline\n",
        "from sklearn.model_selection import train_test_split\n"
      ],
      "execution_count": 0,
      "outputs": []
    },
    {
      "cell_type": "code",
      "metadata": {
        "id": "YkM2aWC75rc-",
        "colab_type": "code",
        "outputId": "8dce35fb-32c4-4ece-ca1e-b9ae5e458296",
        "colab": {
          "base_uri": "https://localhost:8080/",
          "height": 539
        }
      },
      "source": [
        "dataset_train=pd.read_csv('Train_dataset.csv')\n",
        "dataset_train.head()\n",
        "#dataset.describe()\n",
        "dataset_train.count()\n",
        "\n"
      ],
      "execution_count": 0,
      "outputs": [
        {
          "output_type": "execute_result",
          "data": {
            "text/plain": [
              "people_ID                 10714\n",
              "Region                    10714\n",
              "Gender                    10714\n",
              "Designation               10714\n",
              "Name                      10694\n",
              "Married                   10714\n",
              "Children                  10403\n",
              "Occupation                 9967\n",
              "Mode_transport            10711\n",
              "cases/1M                  10714\n",
              "Deaths/1M                 10714\n",
              "comorbidity               10488\n",
              "Age                       10714\n",
              "Coma score                10714\n",
              "Pulmonary score           10714\n",
              "cardiological pressure    10617\n",
              "Diuresis                   9998\n",
              "Platelets                  9790\n",
              "HBB                       10698\n",
              "d-dimer                    9600\n",
              "Heart rate                 9600\n",
              "HDL cholesterol           10679\n",
              "Charlson Index            10714\n",
              "Blood Glucose             10714\n",
              "Insurance                  9624\n",
              "salary                    10714\n",
              "FT/month                   9991\n",
              "Infect_Prob               10714\n",
              "dtype: int64"
            ]
          },
          "metadata": {
            "tags": []
          },
          "execution_count": 3
        }
      ]
    },
    {
      "cell_type": "code",
      "metadata": {
        "id": "juMzozqvfOft",
        "colab_type": "code",
        "outputId": "a24078d9-e6b3-43ce-f840-c65bde862841",
        "colab": {
          "base_uri": "https://localhost:8080/",
          "height": 521
        }
      },
      "source": [
        "dataset_test=pd.read_csv('Test_dataset.csv')\n",
        "dataset_test.head()\n",
        "#dataset.describe()\n",
        "dataset_test.count()\n",
        "\n"
      ],
      "execution_count": 0,
      "outputs": [
        {
          "output_type": "execute_result",
          "data": {
            "text/plain": [
              "people_ID                 14498\n",
              "Region                    14498\n",
              "Gender                    14498\n",
              "Designation               14498\n",
              "Name                      14466\n",
              "Married                   14498\n",
              "Children                  14498\n",
              "Occupation                14498\n",
              "Mode_transport            14498\n",
              "cases/1M                  14498\n",
              "Deaths/1M                 14498\n",
              "comorbidity               14498\n",
              "Age                       14498\n",
              "Coma score                14498\n",
              "Pulmonary score           14498\n",
              "cardiological pressure    14498\n",
              "Diuresis                  14498\n",
              "Platelets                 14498\n",
              "HBB                       14498\n",
              "d-dimer                   14498\n",
              "Heart rate                14498\n",
              "HDL cholesterol           14498\n",
              "Charlson Index            14498\n",
              "Blood Glucose             14498\n",
              "Insurance                 14498\n",
              "salary                    14498\n",
              "FT/month                  14498\n",
              "dtype: int64"
            ]
          },
          "metadata": {
            "tags": []
          },
          "execution_count": 4
        }
      ]
    },
    {
      "cell_type": "code",
      "metadata": {
        "id": "AtJHJ8OJ_Pjl",
        "colab_type": "code",
        "colab": {}
      },
      "source": [
        "def data_clean(data):\n",
        "    \n",
        "    # Let's first remove all missing value features\n",
        "    columns_to_remove = ['people_ID','Designation','Name','d-dimer','Heart rate','Platelets','Insurance','Occupation','salary','Region','Pulmonary score']\n",
        "\n",
        "    columns_to_retain = list(set(data.columns)-set(columns_to_remove))\n",
        "    data = data[columns_to_retain]\n",
        "\n",
        "    return data"
      ],
      "execution_count": 0,
      "outputs": []
    },
    {
      "cell_type": "code",
      "metadata": {
        "id": "JeuLjayH-r6S",
        "colab_type": "code",
        "colab": {}
      },
      "source": [
        "# dataset.Gender[dataset.Gender == 'Male'] = 1\n",
        "# dataset.Gender[dataset.Gender == 'Female'] = 2\n",
        "\n",
        "# dataset.Region[dataset.Region == 'Bhubaneshwar'] = 1\n",
        "# dataset.Region[dataset.Region == 'Chandigarh'] = 2\n",
        "# dataset.Region[dataset.Region == 'Chennai'] = 3\n",
        "# dataset.Region[dataset.Region == 'Delhi'] = 4\n",
        "# dataset.Region[dataset.Region == 'Bengaluru'] = 5\n",
        "\n",
        "# dataset.Occupation[dataset.Occupation == 'Farmer'] = 1\n",
        "# dataset.Occupation[dataset.Occupation == 'Cleaner'] = 2\n",
        "# dataset.Occupation[dataset.Occupation == 'Driver'] = 3\n",
        "# dataset.Occupation[dataset.Occupation == 'Manufacturing'] = 4\n",
        "# dataset.Occupation[dataset.Occupation == 'Clerk'] = 5\n",
        "# dataset.Occupation[dataset.Occupation == 'Sales'] = 6\n",
        "# dataset.Occupation[dataset.Occupation == 'Business'] = 7\n",
        "# dataset.Occupation[dataset.Occupation == 'Researcher'] = 8\n",
        "# dataset.Occupation[dataset.Occupation == 'Legal'] = 9\n",
        "\n",
        "#dataset.count()"
      ],
      "execution_count": 0,
      "outputs": []
    },
    {
      "cell_type": "code",
      "metadata": {
        "id": "gYwFJfy7Dm7C",
        "colab_type": "code",
        "colab": {}
      },
      "source": [
        "dataset_train = data_clean(dataset_train)\n",
        "dataset_train = pd.get_dummies(dataset_train)\n",
        "\n",
        "dataset_test = data_clean(dataset_test)\n",
        "dataset_test = pd.get_dummies(dataset_test)"
      ],
      "execution_count": 0,
      "outputs": []
    },
    {
      "cell_type": "code",
      "metadata": {
        "id": "xNJVBKHaq_0G",
        "colab_type": "code",
        "colab": {}
      },
      "source": [
        "dataset_train.fillna(method ='pad', inplace=True)"
      ],
      "execution_count": 0,
      "outputs": []
    },
    {
      "cell_type": "code",
      "metadata": {
        "id": "YDkU2ExAu9XA",
        "colab_type": "code",
        "outputId": "ce24b740-ab99-45d2-e37b-60e4b72698d9",
        "colab": {
          "base_uri": "https://localhost:8080/",
          "height": 362
        }
      },
      "source": [
        "# print(dataset_train.loc[10707].astype('int'))\n",
        "dataset_train.describe()"
      ],
      "execution_count": 0,
      "outputs": [
        {
          "output_type": "execute_result",
          "data": {
            "text/html": [
              "<div>\n",
              "<style scoped>\n",
              "    .dataframe tbody tr th:only-of-type {\n",
              "        vertical-align: middle;\n",
              "    }\n",
              "\n",
              "    .dataframe tbody tr th {\n",
              "        vertical-align: top;\n",
              "    }\n",
              "\n",
              "    .dataframe thead th {\n",
              "        text-align: right;\n",
              "    }\n",
              "</style>\n",
              "<table border=\"1\" class=\"dataframe\">\n",
              "  <thead>\n",
              "    <tr style=\"text-align: right;\">\n",
              "      <th></th>\n",
              "      <th>Infect_Prob</th>\n",
              "      <th>cases/1M</th>\n",
              "      <th>Children</th>\n",
              "      <th>Charlson Index</th>\n",
              "      <th>Coma score</th>\n",
              "      <th>FT/month</th>\n",
              "      <th>Deaths/1M</th>\n",
              "      <th>Diuresis</th>\n",
              "      <th>HBB</th>\n",
              "      <th>Age</th>\n",
              "      <th>Blood Glucose</th>\n",
              "      <th>HDL cholesterol</th>\n",
              "      <th>cardiological pressure_Elevated</th>\n",
              "      <th>cardiological pressure_Normal</th>\n",
              "      <th>cardiological pressure_Stage-01</th>\n",
              "      <th>cardiological pressure_Stage-02</th>\n",
              "      <th>Mode_transport_Car</th>\n",
              "      <th>Mode_transport_Public</th>\n",
              "      <th>Mode_transport_Walk</th>\n",
              "      <th>Married_NO</th>\n",
              "      <th>Married_YES</th>\n",
              "      <th>comorbidity_Coronary Heart Disease</th>\n",
              "      <th>comorbidity_Diabetes</th>\n",
              "      <th>comorbidity_Hypertension</th>\n",
              "      <th>comorbidity_None</th>\n",
              "      <th>Gender_Female</th>\n",
              "      <th>Gender_Male</th>\n",
              "    </tr>\n",
              "  </thead>\n",
              "  <tbody>\n",
              "    <tr>\n",
              "      <th>count</th>\n",
              "      <td>10714.000000</td>\n",
              "      <td>10714.000000</td>\n",
              "      <td>10714.000000</td>\n",
              "      <td>10714.000000</td>\n",
              "      <td>10714.000000</td>\n",
              "      <td>10714.000000</td>\n",
              "      <td>10714.000000</td>\n",
              "      <td>10714.000000</td>\n",
              "      <td>10714.000000</td>\n",
              "      <td>10714.000000</td>\n",
              "      <td>10714.000000</td>\n",
              "      <td>10714.000000</td>\n",
              "      <td>10714.000000</td>\n",
              "      <td>10714.000000</td>\n",
              "      <td>10714.000000</td>\n",
              "      <td>10714.000000</td>\n",
              "      <td>10714.000000</td>\n",
              "      <td>10714.000000</td>\n",
              "      <td>10714.000000</td>\n",
              "      <td>10714.000000</td>\n",
              "      <td>10714.000000</td>\n",
              "      <td>10714.000000</td>\n",
              "      <td>10714.000000</td>\n",
              "      <td>10714.000000</td>\n",
              "      <td>10714.000000</td>\n",
              "      <td>10714.000000</td>\n",
              "      <td>10714.000000</td>\n",
              "    </tr>\n",
              "    <tr>\n",
              "      <th>mean</th>\n",
              "      <td>52.280680</td>\n",
              "      <td>3.285888</td>\n",
              "      <td>1.061602</td>\n",
              "      <td>20.028094</td>\n",
              "      <td>9.013067</td>\n",
              "      <td>1.002893</td>\n",
              "      <td>0.523241</td>\n",
              "      <td>278.647191</td>\n",
              "      <td>116.172205</td>\n",
              "      <td>42.083722</td>\n",
              "      <td>5.015027</td>\n",
              "      <td>52.636084</td>\n",
              "      <td>0.246500</td>\n",
              "      <td>0.250233</td>\n",
              "      <td>0.247993</td>\n",
              "      <td>0.246220</td>\n",
              "      <td>0.331809</td>\n",
              "      <td>0.334889</td>\n",
              "      <td>0.333022</td>\n",
              "      <td>0.208419</td>\n",
              "      <td>0.791581</td>\n",
              "      <td>0.242206</td>\n",
              "      <td>0.243980</td>\n",
              "      <td>0.246593</td>\n",
              "      <td>0.246127</td>\n",
              "      <td>0.506160</td>\n",
              "      <td>0.493840</td>\n",
              "    </tr>\n",
              "    <tr>\n",
              "      <th>std</th>\n",
              "      <td>10.674667</td>\n",
              "      <td>2.721274</td>\n",
              "      <td>0.817602</td>\n",
              "      <td>11.828445</td>\n",
              "      <td>3.714970</td>\n",
              "      <td>0.816434</td>\n",
              "      <td>0.854303</td>\n",
              "      <td>98.039310</td>\n",
              "      <td>55.172115</td>\n",
              "      <td>15.323397</td>\n",
              "      <td>1.399770</td>\n",
              "      <td>10.430499</td>\n",
              "      <td>0.430993</td>\n",
              "      <td>0.433168</td>\n",
              "      <td>0.431868</td>\n",
              "      <td>0.430828</td>\n",
              "      <td>0.470885</td>\n",
              "      <td>0.471974</td>\n",
              "      <td>0.471316</td>\n",
              "      <td>0.406197</td>\n",
              "      <td>0.406197</td>\n",
              "      <td>0.428439</td>\n",
              "      <td>0.429501</td>\n",
              "      <td>0.431048</td>\n",
              "      <td>0.430773</td>\n",
              "      <td>0.499985</td>\n",
              "      <td>0.499985</td>\n",
              "    </tr>\n",
              "    <tr>\n",
              "      <th>min</th>\n",
              "      <td>29.289600</td>\n",
              "      <td>1.000000</td>\n",
              "      <td>0.000000</td>\n",
              "      <td>0.000000</td>\n",
              "      <td>3.000000</td>\n",
              "      <td>0.000000</td>\n",
              "      <td>0.000000</td>\n",
              "      <td>110.000000</td>\n",
              "      <td>20.000000</td>\n",
              "      <td>16.000000</td>\n",
              "      <td>3.000000</td>\n",
              "      <td>35.000000</td>\n",
              "      <td>0.000000</td>\n",
              "      <td>0.000000</td>\n",
              "      <td>0.000000</td>\n",
              "      <td>0.000000</td>\n",
              "      <td>0.000000</td>\n",
              "      <td>0.000000</td>\n",
              "      <td>0.000000</td>\n",
              "      <td>0.000000</td>\n",
              "      <td>0.000000</td>\n",
              "      <td>0.000000</td>\n",
              "      <td>0.000000</td>\n",
              "      <td>0.000000</td>\n",
              "      <td>0.000000</td>\n",
              "      <td>0.000000</td>\n",
              "      <td>0.000000</td>\n",
              "    </tr>\n",
              "    <tr>\n",
              "      <th>25%</th>\n",
              "      <td>47.277426</td>\n",
              "      <td>2.000000</td>\n",
              "      <td>0.000000</td>\n",
              "      <td>10.000000</td>\n",
              "      <td>6.000000</td>\n",
              "      <td>0.000000</td>\n",
              "      <td>0.000000</td>\n",
              "      <td>194.000000</td>\n",
              "      <td>68.000000</td>\n",
              "      <td>29.000000</td>\n",
              "      <td>4.000000</td>\n",
              "      <td>44.000000</td>\n",
              "      <td>0.000000</td>\n",
              "      <td>0.000000</td>\n",
              "      <td>0.000000</td>\n",
              "      <td>0.000000</td>\n",
              "      <td>0.000000</td>\n",
              "      <td>0.000000</td>\n",
              "      <td>0.000000</td>\n",
              "      <td>0.000000</td>\n",
              "      <td>1.000000</td>\n",
              "      <td>0.000000</td>\n",
              "      <td>0.000000</td>\n",
              "      <td>0.000000</td>\n",
              "      <td>0.000000</td>\n",
              "      <td>0.000000</td>\n",
              "      <td>0.000000</td>\n",
              "    </tr>\n",
              "    <tr>\n",
              "      <th>50%</th>\n",
              "      <td>49.008389</td>\n",
              "      <td>2.000000</td>\n",
              "      <td>1.000000</td>\n",
              "      <td>20.000000</td>\n",
              "      <td>9.000000</td>\n",
              "      <td>1.000000</td>\n",
              "      <td>0.000000</td>\n",
              "      <td>276.000000</td>\n",
              "      <td>117.000000</td>\n",
              "      <td>42.000000</td>\n",
              "      <td>5.000000</td>\n",
              "      <td>53.000000</td>\n",
              "      <td>0.000000</td>\n",
              "      <td>0.000000</td>\n",
              "      <td>0.000000</td>\n",
              "      <td>0.000000</td>\n",
              "      <td>0.000000</td>\n",
              "      <td>0.000000</td>\n",
              "      <td>0.000000</td>\n",
              "      <td>0.000000</td>\n",
              "      <td>1.000000</td>\n",
              "      <td>0.000000</td>\n",
              "      <td>0.000000</td>\n",
              "      <td>0.000000</td>\n",
              "      <td>0.000000</td>\n",
              "      <td>1.000000</td>\n",
              "      <td>0.000000</td>\n",
              "    </tr>\n",
              "    <tr>\n",
              "      <th>75%</th>\n",
              "      <td>52.762313</td>\n",
              "      <td>4.000000</td>\n",
              "      <td>2.000000</td>\n",
              "      <td>30.000000</td>\n",
              "      <td>12.000000</td>\n",
              "      <td>2.000000</td>\n",
              "      <td>1.000000</td>\n",
              "      <td>364.000000</td>\n",
              "      <td>165.000000</td>\n",
              "      <td>55.000000</td>\n",
              "      <td>6.000000</td>\n",
              "      <td>62.000000</td>\n",
              "      <td>0.000000</td>\n",
              "      <td>1.000000</td>\n",
              "      <td>0.000000</td>\n",
              "      <td>0.000000</td>\n",
              "      <td>1.000000</td>\n",
              "      <td>1.000000</td>\n",
              "      <td>1.000000</td>\n",
              "      <td>0.000000</td>\n",
              "      <td>1.000000</td>\n",
              "      <td>0.000000</td>\n",
              "      <td>0.000000</td>\n",
              "      <td>0.000000</td>\n",
              "      <td>0.000000</td>\n",
              "      <td>1.000000</td>\n",
              "      <td>1.000000</td>\n",
              "    </tr>\n",
              "    <tr>\n",
              "      <th>max</th>\n",
              "      <td>97.632000</td>\n",
              "      <td>8.000000</td>\n",
              "      <td>2.000000</td>\n",
              "      <td>40.000000</td>\n",
              "      <td>15.000000</td>\n",
              "      <td>2.000000</td>\n",
              "      <td>2.000000</td>\n",
              "      <td>450.000000</td>\n",
              "      <td>210.000000</td>\n",
              "      <td>68.000000</td>\n",
              "      <td>7.000000</td>\n",
              "      <td>70.000000</td>\n",
              "      <td>1.000000</td>\n",
              "      <td>1.000000</td>\n",
              "      <td>1.000000</td>\n",
              "      <td>1.000000</td>\n",
              "      <td>1.000000</td>\n",
              "      <td>1.000000</td>\n",
              "      <td>1.000000</td>\n",
              "      <td>1.000000</td>\n",
              "      <td>1.000000</td>\n",
              "      <td>1.000000</td>\n",
              "      <td>1.000000</td>\n",
              "      <td>1.000000</td>\n",
              "      <td>1.000000</td>\n",
              "      <td>1.000000</td>\n",
              "      <td>1.000000</td>\n",
              "    </tr>\n",
              "  </tbody>\n",
              "</table>\n",
              "</div>"
            ],
            "text/plain": [
              "        Infect_Prob      cases/1M  ...  Gender_Female   Gender_Male\n",
              "count  10714.000000  10714.000000  ...   10714.000000  10714.000000\n",
              "mean      52.280680      3.285888  ...       0.506160      0.493840\n",
              "std       10.674667      2.721274  ...       0.499985      0.499985\n",
              "min       29.289600      1.000000  ...       0.000000      0.000000\n",
              "25%       47.277426      2.000000  ...       0.000000      0.000000\n",
              "50%       49.008389      2.000000  ...       1.000000      0.000000\n",
              "75%       52.762313      4.000000  ...       1.000000      1.000000\n",
              "max       97.632000      8.000000  ...       1.000000      1.000000\n",
              "\n",
              "[8 rows x 27 columns]"
            ]
          },
          "metadata": {
            "tags": []
          },
          "execution_count": 9
        }
      ]
    },
    {
      "cell_type": "code",
      "metadata": {
        "id": "Hy9qbuvp9sUy",
        "colab_type": "code",
        "colab": {}
      },
      "source": [
        "\n",
        "X=dataset_train.drop('Infect_Prob',axis=1)\n",
        "y=dataset_train['Infect_Prob']\n",
        "X_actual_test = dataset_test\n",
        "X_train, X_test, y_train, y_test = train_test_split(X, y, test_size=0.33, random_state=42)"
      ],
      "execution_count": 0,
      "outputs": []
    },
    {
      "cell_type": "code",
      "metadata": {
        "id": "yosW3SQYq4fh",
        "colab_type": "code",
        "outputId": "ccb09b04-4b92-44fe-c5d8-52345ece5e8c",
        "colab": {
          "base_uri": "https://localhost:8080/",
          "height": 125
        }
      },
      "source": [
        "# y_test = int(y_test)\n",
        "y_train = y_train.astype('int')\n",
        "y_train.head()\n"
      ],
      "execution_count": 0,
      "outputs": [
        {
          "output_type": "execute_result",
          "data": {
            "text/plain": [
              "744     44\n",
              "3298    50\n",
              "6444    49\n",
              "3497    48\n",
              "9085    48\n",
              "Name: Infect_Prob, dtype: int64"
            ]
          },
          "metadata": {
            "tags": []
          },
          "execution_count": 11
        }
      ]
    },
    {
      "cell_type": "code",
      "metadata": {
        "id": "4FYBqVyVujmM",
        "colab_type": "code",
        "outputId": "a74fc22e-7d83-414c-fd7a-be64c2bea543",
        "colab": {
          "base_uri": "https://localhost:8080/",
          "height": 125
        }
      },
      "source": [
        "y_test = y_test.astype('int')\n",
        "y_test.head()"
      ],
      "execution_count": 0,
      "outputs": [
        {
          "output_type": "execute_result",
          "data": {
            "text/plain": [
              "10307    47\n",
              "6705     48\n",
              "304      47\n",
              "9142     46\n",
              "10591    97\n",
              "Name: Infect_Prob, dtype: int64"
            ]
          },
          "metadata": {
            "tags": []
          },
          "execution_count": 12
        }
      ]
    },
    {
      "cell_type": "code",
      "metadata": {
        "id": "N6Vv2tCTqO4I",
        "colab_type": "code",
        "outputId": "3233e91d-527a-4fcd-eaae-161d2b9270b1",
        "colab": {
          "base_uri": "https://localhost:8080/",
          "height": 35
        }
      },
      "source": [
        "from sklearn.linear_model import LinearRegression\n",
        "lm = LinearRegression()\n",
        "lm.fit(X_train,y_train)\n",
        "lm.score(X_test,y_test)\n"
      ],
      "execution_count": 0,
      "outputs": [
        {
          "output_type": "execute_result",
          "data": {
            "text/plain": [
              "0.26892988193064793"
            ]
          },
          "metadata": {
            "tags": []
          },
          "execution_count": 13
        }
      ]
    },
    {
      "cell_type": "code",
      "metadata": {
        "id": "Z1ijMuEfHXhy",
        "colab_type": "code",
        "outputId": "f8129c71-e39e-45b1-d95e-630760234a7e",
        "colab": {
          "base_uri": "https://localhost:8080/",
          "height": 179
        }
      },
      "source": [
        "from sklearn.linear_model import LogisticRegression\n",
        "logmodel = LogisticRegression()\n",
        "logmodel.fit(X_train,y_train)\n",
        "logmodel.score(X_test,y_test)\n"
      ],
      "execution_count": 0,
      "outputs": [
        {
          "output_type": "stream",
          "text": [
            "/usr/local/lib/python3.6/dist-packages/sklearn/linear_model/_logistic.py:940: ConvergenceWarning: lbfgs failed to converge (status=1):\n",
            "STOP: TOTAL NO. of ITERATIONS REACHED LIMIT.\n",
            "\n",
            "Increase the number of iterations (max_iter) or scale the data as shown in:\n",
            "    https://scikit-learn.org/stable/modules/preprocessing.html\n",
            "Please also refer to the documentation for alternative solver options:\n",
            "    https://scikit-learn.org/stable/modules/linear_model.html#logistic-regression\n",
            "  extra_warning_msg=_LOGISTIC_SOLVER_CONVERGENCE_MSG)\n"
          ],
          "name": "stderr"
        },
        {
          "output_type": "execute_result",
          "data": {
            "text/plain": [
              "0.17760180995475114"
            ]
          },
          "metadata": {
            "tags": []
          },
          "execution_count": 14
        }
      ]
    },
    {
      "cell_type": "code",
      "metadata": {
        "id": "dsFX9Lc--gWH",
        "colab_type": "code",
        "outputId": "444b56f0-4209-4d41-b9f8-33e8f327ef16",
        "colab": {
          "base_uri": "https://localhost:8080/",
          "height": 233
        }
      },
      "source": [
        "print(y_train)"
      ],
      "execution_count": 0,
      "outputs": [
        {
          "output_type": "stream",
          "text": [
            "744     44\n",
            "3298    50\n",
            "6444    49\n",
            "3497    48\n",
            "9085    48\n",
            "        ..\n",
            "5734    37\n",
            "5191    54\n",
            "5390    53\n",
            "860     48\n",
            "7270    50\n",
            "Name: Infect_Prob, Length: 7178, dtype: int64\n"
          ],
          "name": "stdout"
        }
      ]
    },
    {
      "cell_type": "code",
      "metadata": {
        "id": "lf83Ls6yqN8q",
        "colab_type": "code",
        "outputId": "a7e5b37d-6973-4ebd-9f10-395fd2c657a2",
        "colab": {
          "base_uri": "https://localhost:8080/",
          "height": 53
        }
      },
      "source": [
        "y_pred=logmodel.predict(X_actual_test)\n",
        "print(y_pred)\n",
        "print(y_pred.var())"
      ],
      "execution_count": 0,
      "outputs": [
        {
          "output_type": "stream",
          "text": [
            "[47 47 47 ... 46 46 58]\n",
            "40.68111417311574\n"
          ],
          "name": "stdout"
        }
      ]
    },
    {
      "cell_type": "code",
      "metadata": {
        "id": "s7ZJ5jSv807_",
        "colab_type": "code",
        "colab": {}
      },
      "source": [
        ""
      ],
      "execution_count": 0,
      "outputs": []
    }
  ]
}